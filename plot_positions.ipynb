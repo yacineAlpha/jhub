{
 "cells": [
  {
   "cell_type": "code",
   "execution_count": 2,
   "id": "focal-celebrity",
   "metadata": {},
   "outputs": [],
   "source": [
    "import pandas as pd \n",
    "import numpy as np \n",
    "#from ipywidgets import HTML\n",
    "from munic.athena.visualisation.vizu import plot_positions,show_df\n",
    "\n",
    "# to activate autocomplete\n",
    "%config Completer.use_jedi = False"
   ]
  },
  {
   "cell_type": "code",
   "execution_count": null,
   "id": "christian-subsection",
   "metadata": {},
   "outputs": [],
   "source": [
    "locations_df = pd.read_csv('worldcities.csv')\n",
    "locations = locations_df.iloc[:20,2:4].to_numpy()\n",
    "locations = list(map(lambda x: tuple(x),locations))"
   ]
  },
  {
   "cell_type": "code",
   "execution_count": 3,
   "id": "racial-adapter",
   "metadata": {},
   "outputs": [],
   "source": [
    "plot_positions(locations)"
   ]
  },
  {
   "cell_type": "code",
   "execution_count": 4,
   "id": "eligible-prefix",
   "metadata": {},
   "outputs": [
    {
     "data": {
      "application/vnd.jupyter.widget-view+json": {
       "model_id": "1ec78568c4854815aba31bb06a99a57a",
       "version_major": 2,
       "version_minor": 0
      },
      "text/plain": [
       "Map(center=[35.6897, 139.6922], controls=(ZoomControl(options=['position', 'zoom_in_text', 'zoom_in_title', 'z…"
      ]
     },
     "metadata": {},
     "output_type": "display_data"
    }
   ],
   "source": [
    "show_df(locations_df)"
   ]
  },
  {
   "cell_type": "code",
   "execution_count": null,
   "id": "abroad-arrow",
   "metadata": {},
   "outputs": [],
   "source": []
  },
  {
   "cell_type": "code",
   "execution_count": null,
   "id": "beneficial-fabric",
   "metadata": {},
   "outputs": [],
   "source": []
  },
  {
   "cell_type": "code",
   "execution_count": 6,
   "id": "tribal-discharge",
   "metadata": {},
   "outputs": [],
   "source": []
  },
  {
   "cell_type": "code",
   "execution_count": 5,
   "id": "curious-repeat",
   "metadata": {},
   "outputs": [],
   "source": [
    "car_info = {'Imei':165233,'Model':\"Skoda\",'fuel_level':'20000'}"
   ]
  },
  {
   "cell_type": "code",
   "execution_count": 62,
   "id": "burning-account",
   "metadata": {},
   "outputs": [
    {
     "data": {
      "application/vnd.jupyter.widget-view+json": {
       "model_id": "b43a65a0e76e452dbee288b187f27bf1",
       "version_major": 2,
       "version_minor": 0
      },
      "text/plain": [
       "Map(bottom=614.0, center=[32.54681317351517, 77.51953125000001], controls=(ZoomControl(options=['position', 'z…"
      ]
     },
     "metadata": {},
     "output_type": "display_data"
    }
   ],
   "source": [
    "markers = []\n",
    "for point in locations:\n",
    "    info = HTML()\n",
    "    info.value = info_to_html(car_info)\n",
    "    marker = Marker(location=point,title = \"{},{}\".format(point[0],point[1]), icon=icon1,draggable=False)\n",
    "    marker.popup = info\n",
    "    markers.append(marker)\n",
    "marker_clusters = MarkerCluster(markers = markers)\n",
    "m.add_layer(marker_clusters)\n",
    "\n",
    "display(m)\n"
   ]
  },
  {
   "cell_type": "code",
   "execution_count": null,
   "id": "seasonal-support",
   "metadata": {},
   "outputs": [],
   "source": [
    "def plot_positions(positions,default_zoom = 3):\n",
    "    \n",
    "    markers = []\n",
    "    #Configure the marker icon\n",
    "    icon1 = AwesomeIcon(\n",
    "    name='car',\n",
    "    marker_color='red',\n",
    "    icon_color='black',\n",
    "    spin=False\n",
    "    )\n",
    "    \n",
    "    #set the center of initial view\n",
    "    \n",
    "    center = positions[0]\n",
    "    m = Map(basemap=basemaps.OpenStreetMap.France,center=center, zoom=default_zoom)\n",
    "    \n",
    "    #Add markers to the markers list to plot them after\n",
    "    for point in positions:\n",
    "        marker = Marker(location=point,title = \"{},{}\".format(point[0],point[1]), icon=icon1,draggable=False)\n",
    "        markers.append(marker)\n",
    "\n",
    "    #Create a marker cluster\n",
    "    marker_clusters = MarkerCluster(markers = markers)\n",
    "    m.add_layer(marker_clusters)\n",
    "    \n",
    "    #display the map\n",
    "    display(m)\n",
    "\n",
    "    \n",
    "def info_to_html(info):\n",
    "    html_string=\"\"\n",
    "    line_template = \"<b>{}:</b> {};\"\n",
    "    for key,value in info.items():\n",
    "        html_string += line_template.format(key,value)\n",
    "    return html_string\n",
    "    "
   ]
  },
  {
   "cell_type": "code",
   "execution_count": 3,
   "id": "medical-miniature",
   "metadata": {},
   "outputs": [],
   "source": [
    "#Show the dataframe in an interactive way\n",
    "qgrid.show_grid(locations_df,show_toolbar=True)\n"
   ]
  },
  {
   "cell_type": "code",
   "execution_count": null,
   "id": "alike-force",
   "metadata": {},
   "outputs": [],
   "source": []
  },
  {
   "cell_type": "code",
   "execution_count": 2,
   "id": "distant-character",
   "metadata": {},
   "outputs": [],
   "source": [
    "import pandas as pd\n",
    "import qgrid"
   ]
  },
  {
   "cell_type": "code",
   "execution_count": 29,
   "id": "periodic-society",
   "metadata": {},
   "outputs": [],
   "source": [
    "class MunicDataFrame(pd.DataFrame):\n",
    "    def __init__(self,data=None, index=None, columns=None, dtype=None, copy=False):\n",
    "        super().__init__(data,index,columns,dtype,copy)\n",
    "    \n",
    "    def show(self):\n",
    "        return qgrid.show_grid(self,show_toolbar=True)\n",
    "    "
   ]
  },
  {
   "cell_type": "code",
   "execution_count": 38,
   "id": "muslim-friend",
   "metadata": {},
   "outputs": [],
   "source": [
    "df = pd.read_csv('worldcities.csv')"
   ]
  },
  {
   "cell_type": "code",
   "execution_count": 39,
   "id": "subjective-column",
   "metadata": {},
   "outputs": [],
   "source": [
    "df = MunicDataFrame(df,columns=['city'])"
   ]
  },
  {
   "cell_type": "code",
   "execution_count": 40,
   "id": "approved-flush",
   "metadata": {},
   "outputs": [
    {
     "data": {
      "application/vnd.jupyter.widget-view+json": {
       "model_id": "24f6e338730d4b358ed3d4b0cba73ccc",
       "version_major": 2,
       "version_minor": 0
      },
      "text/plain": [
       "QgridWidget(grid_options={'fullWidthRows': True, 'syncColumnCellResize': True, 'forceFitColumns': True, 'defau…"
      ]
     },
     "metadata": {},
     "output_type": "display_data"
    }
   ],
   "source": [
    "df.show()"
   ]
  },
  {
   "cell_type": "code",
   "execution_count": 32,
   "id": "nearby-reservation",
   "metadata": {},
   "outputs": [
    {
     "data": {
      "text/plain": [
       "0              Tokyo\n",
       "1            Jakarta\n",
       "2              Delhi\n",
       "3             Mumbai\n",
       "4             Manila\n",
       "            ...     \n",
       "26564           Nord\n",
       "26565    Timmiarmiut\n",
       "26566    Cheremoshna\n",
       "26567      Ambarchik\n",
       "26568        Nordvik\n",
       "Name: city, Length: 26569, dtype: object"
      ]
     },
     "execution_count": 32,
     "metadata": {},
     "output_type": "execute_result"
    }
   ],
   "source": [
    "df['city']"
   ]
  },
  {
   "cell_type": "code",
   "execution_count": 22,
   "id": "differential-trunk",
   "metadata": {},
   "outputs": [
    {
     "ename": "TypeError",
     "evalue": "__str__ returned non-string (type QgridWidget)",
     "output_type": "error",
     "traceback": [
      "\u001b[0;31m---------------------------------------------------------------------------\u001b[0m",
      "\u001b[0;31mTypeError\u001b[0m                                 Traceback (most recent call last)",
      "\u001b[0;32m<ipython-input-22-2a851eda2e88>\u001b[0m in \u001b[0;36m<module>\u001b[0;34m\u001b[0m\n\u001b[0;32m----> 1\u001b[0;31m \u001b[0mprint\u001b[0m\u001b[0;34m(\u001b[0m\u001b[0mdf\u001b[0m\u001b[0;34m)\u001b[0m\u001b[0;34m\u001b[0m\u001b[0;34m\u001b[0m\u001b[0m\n\u001b[0m",
      "\u001b[0;31mTypeError\u001b[0m: __str__ returned non-string (type QgridWidget)"
     ]
    }
   ],
   "source": [
    "print(df)"
   ]
  },
  {
   "cell_type": "code",
   "execution_count": null,
   "id": "proprietary-carroll",
   "metadata": {},
   "outputs": [],
   "source": []
  }
 ],
 "metadata": {
  "kernelspec": {
   "display_name": "Python 3",
   "language": "python",
   "name": "python3"
  },
  "language_info": {
   "codemirror_mode": {
    "name": "ipython",
    "version": 3
   },
   "file_extension": ".py",
   "mimetype": "text/x-python",
   "name": "python",
   "nbconvert_exporter": "python",
   "pygments_lexer": "ipython3",
   "version": "3.8.5"
  }
 },
 "nbformat": 4,
 "nbformat_minor": 5
}
